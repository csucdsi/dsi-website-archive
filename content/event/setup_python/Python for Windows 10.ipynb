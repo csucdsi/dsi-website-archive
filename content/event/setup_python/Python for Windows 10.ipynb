{
 "cells": [
  {
   "cell_type": "markdown",
   "metadata": {
    "slideshow": {
     "slide_type": "slide"
    }
   },
   "source": [
    "\n",
    "\n",
    "# Python for Windows 10\n",
    "__Grant Esparza__\n",
    "\n",
    "__April 5, 2018__"
   ]
  },
  {
   "cell_type": "markdown",
   "metadata": {
    "slideshow": {
     "slide_type": "slide"
    }
   },
   "source": [
    "## Getting Ready\n",
    "\n",
    "In order to install the bash shell command-line tool, you must have the __Windows 10 Creators Update__ installed.  In order to check if your PC meets the requirements:\n",
    "\n",
    "   -  Open __Settings__\n",
    "   -  Click on __System__\n",
    "   -  Click on __About__\n",
    "\n",
    "Under version, you must have at least version __1703__.  If not, you must update your PC."
   ]
  },
  {
   "cell_type": "markdown",
   "metadata": {
    "slideshow": {
     "slide_type": "slide"
    }
   },
   "source": [
    "## Installing Bash command-line tool\n",
    "\n",
    "   -  Open __Settings__\n",
    "   -  Click on __Update & Security__\n",
    "   -  Click on __For Developers__\n",
    "   -  Under \"Use developer features\", select the Developer mode option to setup the environment to install Bash.\n",
    "   -  After all the components are installed, you will need to restart your computer.\n",
    "   -  Next, open the __Control Panel__\n",
    "   -  Click on __Programs__\n",
    "   -  Select __Turn Windows features on or off__   "
   ]
  },
  {
   "cell_type": "markdown",
   "metadata": {
    "slideshow": {
     "slide_type": "subslide"
    }
   },
   "source": [
    "## Continuing with Installation\n",
    "\n",
    "   - Scroll down in the popup window and check the box for Windows Subsystem for Linux.\n",
    "   - More components will install on your computer, after which select the popup Restart Now.\n",
    "   - After reboot, open the Windows Store and search for Ubuntu. Click on Ubuntu and press install. After the program is installed, press Launch.\n",
    "   - The command prompt will then open. You will see text that states the installation has begun. This can take a few minutes, so be paitent. Do not close the installation window!\n",
    "   - Afterwards you will be promted to create a UNIX account. Remember this info. You will need the password for installing future programs and tools."
   ]
  },
  {
   "cell_type": "markdown",
   "metadata": {},
   "source": [
    "## One More Thing\n",
    "\n",
    "   - In order to install packages using the bash shell, we'll need to grab some updates. Use the following command:\n",
    "       ```bash\n",
    "        sudo apt-get update\n",
    "        ```\n",
    "   - You will be prompted with a message that the installation will use disk space. Type '__Y__' and press enter."
   ]
  },
  {
   "cell_type": "markdown",
   "metadata": {
    "slideshow": {
     "slide_type": "slide"
    }
   },
   "source": [
    "## What to Look Out For\n",
    "\n",
    "   - During step 12, if you encounter the error code __0x8000000d__, open the Powershell in Admin mode by pressing the __Windows key + x__ and selected Powershell(admin).\n",
    "     - Enter the following command:\n",
    "         \n",
    "    ```powershell\n",
    "    Enable-WindowsOptionalFeature -Online -FeatureName Microsoft-Windows-Subsystem-Linux\n",
    "    ```\n",
    "     - Go back to __Programs__ in the Control Panel and select uninstall programs. Find Ubuntu and uninstall it. You can then continue from step 11."
   ]
  },
  {
   "cell_type": "markdown",
   "metadata": {},
   "source": [
    "\n",
    "\n",
    "## Using the Bash Shell\n",
    "\n",
    "   - To access the bash shell tool, simply open a command prompt(or Powershell) and type __bash__.\n",
    "   - While it isn't designed to run Linux graphical applications, most UNIX commands will work, letting you run programs on the command line without the use of a virtual machine."
   ]
  },
  {
   "cell_type": "markdown",
   "metadata": {
    "slideshow": {
     "slide_type": "slide"
    }
   },
   "source": [
    "## Installing Python\n",
    "\n",
    "   - Check to see if python3 is already installed using:\n",
    "       ```bash\n",
    "       python3 --version\n",
    "       ``` \n",
    "   - If it is, great! Else use the command:\n",
    "       ```bash\n",
    "        sudo apt-get install python3\n",
    "        ```"
   ]
  },
  {
   "cell_type": "markdown",
   "metadata": {
    "slideshow": {
     "slide_type": "slide"
    }
   },
   "source": [
    "## Pip\n",
    "\n",
    "Pip is a package management system that is used to install software packages that are written in Python. Pip's command line interface can make it extremely easy to install software through a simple command.\n",
    "\n",
    "To check if pip is already installed on your machine enter the command:\n",
    "\n",
    "```bash\n",
    "pip3 --version\n",
    "```\n",
    "    \n",
    "If it is not installed, use the following:\n",
    "\n",
    "```bash\n",
    "sudo apt install python3-pip\n",
    "```\n",
    "\n",
    "If you can't get pip to install, use this link for an online python editor: https://www.pythonanywhere.com/try-ipython/"
   ]
  },
  {
   "cell_type": "markdown",
   "metadata": {
    "slideshow": {
     "slide_type": "slide"
    }
   },
   "source": [
    "## Jupyter\n",
    "\n",
    "   - Jupyter is a open-source web application that makes it easy to write and share code, visualizations, and interactive output. \n",
    "   - It provides a python package that will allow you to host a local server that makes it easy to maintain your files and start working on some projects.\n",
    "\n",
    "To install use the following command:\n",
    "\n",
    "```bash\n",
    "sudo pip3 install jupyter\n",
    "```\n",
    "To run your server use:\n",
    "    \n",
    "```bash\n",
    "ipython3 notebook\n",
    "```"
   ]
  },
  {
   "cell_type": "markdown",
   "metadata": {
    "slideshow": {
     "slide_type": "slide"
    }
   },
   "source": [
    "## Your First Programs\n",
    "\n",
    "Let's try writing some actual programs in Python. \n",
    "   - After running your server and paste the link provided into your browser.\n",
    "       - You can copy the link by __double clicking__ the text and performing a __right click__. This will allow you to paste the link into your browser\n",
    "   - On the top right of your homepage click __New__ and select __Python3__. \n",
    "   - A new notebook page where we can write programs should be opened in a new tab."
   ]
  },
  {
   "cell_type": "markdown",
   "metadata": {
    "slideshow": {
     "slide_type": "subslide"
    }
   },
   "source": [
    "## The Basics\n",
    "\n",
    "Using the cells in the notebook page we can write executable code. For example if we type 2 + 2 and click Run, we should see 4 print out.\n"
   ]
  },
  {
   "cell_type": "code",
   "execution_count": 2,
   "metadata": {
    "slideshow": {
     "slide_type": "-"
    }
   },
   "outputs": [
    {
     "name": "stdout",
     "output_type": "stream",
     "text": [
      "19\n"
     ]
    }
   ],
   "source": [
    "result = 4 + 15\n",
    "print(result)"
   ]
  },
  {
   "cell_type": "markdown",
   "metadata": {
    "slideshow": {
     "slide_type": "subslide"
    }
   },
   "source": [
    "## Practice With Functions\n",
    "\n",
    "Functions take __parameters__ inside of the paretheses which it can use. For example, previously we gave _print()_ our __result__ variable which it used to print our result to the screen. By using the keyword __def__ we can give our function a name and parameters. Let's create a function that can add two numbers:"
   ]
  },
  {
   "cell_type": "code",
   "execution_count": 3,
   "metadata": {},
   "outputs": [
    {
     "name": "stdout",
     "output_type": "stream",
     "text": [
      "6\n",
      "8\n",
      "1721\n",
      "154\n"
     ]
    }
   ],
   "source": [
    "def sum(num1, num2):\n",
    "    result = num1 + num2\n",
    "    print(result)\n",
    "    \n",
    "sum(2, 4)\n",
    "sum(4, 4)\n",
    "sum(1001, 720)\n",
    "sum(67, 87)"
   ]
  },
  {
   "cell_type": "markdown",
   "metadata": {
    "slideshow": {
     "slide_type": "subslide"
    }
   },
   "source": [
    "## Plots\n",
    "\n",
    "Let's try using a function from a library to make a plot! By using the library matplotlib we can print a cool histogram of whatever values we choose. In this example we'll create a variable that can hold multiple numbers at once called an array. By importing the library and calling a function it contains, we can make our plot:\n",
    "\n",
    "   - First install the library using pip3:\n",
    "   ```bash\n",
    "   pip3 install matplotlib\n",
    "   ```"
   ]
  },
  {
   "cell_type": "code",
   "execution_count": 5,
   "metadata": {
    "scrolled": true
   },
   "outputs": [
    {
     "data": {
      "image/png": "[encoded data removed]",
      "text/plain": [
       "<Figure size 432x288 with 1 Axes>"
      ]
     },
     "metadata": {},
     "output_type": "display_data"
    }
   ],
   "source": [
    "%matplotlib inline\n",
    "import matplotlib\n",
    "import numpy as np\n",
    "mu, sigma = 100, 15\n",
    "x = mu + sigma * np.random.randn(100)\n",
    "plot = matplotlib.pyplot.hist(x, bins = 50)"
   ]
  },
  {
   "cell_type": "markdown",
   "metadata": {
    "slideshow": {
     "slide_type": "slide"
    }
   },
   "source": [
    "## Conclusion\n",
    "\n",
    "   - By now you should have an environment in which you can write Python code and save your work on your computer. \n",
    "   - We took a quick look at how to write a simple program and create a function that we can pass new values into. \n",
    "   - Jupyter will allow you to create more complex programs and create professional looking visualizations. \n",
    "   - By making use of these tools, you will find that there are many cases in your own studies that can make use of them."
   ]
  }
 ],
 "metadata": {
  "celltoolbar": "Slideshow",
  "kernelspec": {
   "display_name": "Python 3",
   "language": "python",
   "name": "python3"
  },
  "language_info": {
   "codemirror_mode": {
    "name": "ipython",
    "version": 3
   },
   "file_extension": ".py",
   "mimetype": "text/x-python",
   "name": "python",
   "nbconvert_exporter": "python",
   "pygments_lexer": "ipython3",
   "version": "3.5.2"
  }
 },
 "nbformat": 4,
 "nbformat_minor": 2
}
